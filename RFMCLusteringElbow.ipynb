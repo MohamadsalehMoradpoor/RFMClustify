{
 "cells": [
  {
   "cell_type": "code",
   "execution_count": 1,
   "metadata": {},
   "outputs": [],
   "source": [
    "# Import required libraries\n",
    "import pandas as pd\n",
    "import numpy as np\n",
    "import datetime as dt\n",
    "from sklearn.cluster import KMeans\n",
    "import seaborn as sns"
   ]
  },
  {
   "cell_type": "code",
   "execution_count": 2,
   "metadata": {},
   "outputs": [],
   "source": [
    "# Load the data\n",
    "data = pd.read_excel('Online Retail.xlsx')"
   ]
  },
  {
   "cell_type": "code",
   "execution_count": 3,
   "metadata": {},
   "outputs": [],
   "source": [
    "# Filter out rows with missing CustomerID\n",
    "data = data[data['CustomerID'].notnull()]"
   ]
  },
  {
   "cell_type": "code",
   "execution_count": 4,
   "metadata": {},
   "outputs": [],
   "source": [
    "# Convert InvoiceDate to datetime format\n",
    "data['InvoiceDay'] = data['InvoiceDate'].apply(lambda x: dt.datetime(x.year, x.month, x.day))"
   ]
  },
  {
   "cell_type": "code",
   "execution_count": 5,
   "metadata": {},
   "outputs": [],
   "source": [
    "# Calculate the RFM values\n",
    "pin_date = max(data['InvoiceDay']) + dt.timedelta(1)\n",
    "data['TotalSum'] = data['Quantity'] * data['UnitPrice']\n",
    "rfm = data.groupby('CustomerID').agg({\n",
    "    'InvoiceDay': lambda x: (pin_date - x.max()).days,\n",
    "    'InvoiceNo': 'count',\n",
    "    'TotalSum': 'sum'\n",
    "})\n",
    "rfm.rename(columns={\n",
    "    'InvoiceDay': 'Recency',\n",
    "    'InvoiceNo': 'Frequency',\n",
    "    'TotalSum': 'Monetary'\n",
    "}, inplace=True)"
   ]
  },
  {
   "cell_type": "code",
   "execution_count": 6,
   "metadata": {},
   "outputs": [],
   "source": [
    "# Segment the customers into clusters using K-means\n",
    "r_labels = range(4, 0, -1)\n",
    "r_groups = pd.qcut(rfm['Recency'], q=4, labels=r_labels)\n",
    "f_labels = range(1, 5)\n",
    "f_groups = pd.qcut(rfm['Frequency'], q=4, labels=f_labels)\n",
    "m_labels = range(1, 5)\n",
    "m_groups = pd.qcut(rfm['Monetary'], q=4, labels=m_labels)\n",
    "rfm['R'] = r_groups.values\n",
    "rfm['F'] = f_groups.values\n",
    "rfm['M'] = m_groups.values\n",
    "X = rfm[['R', 'F', 'M']]"
   ]
  },
  {
   "cell_type": "code",
   "execution_count": 7,
   "metadata": {},
   "outputs": [],
   "source": [
    "# Find the optimal number of clusters using the elbow method\n",
    "wcss = {}\n",
    "for k in range(2, 11):\n",
    "    kmeans = KMeans(n_clusters=k, init='k-means++', max_iter=300, random_state=0, algorithm='elkan')\n",
    "    kmeans.fit(X)\n",
    "    wcss[k] = kmeans.inertia_"
   ]
  },
  {
   "cell_type": "code",
   "execution_count": 8,
   "metadata": {},
   "outputs": [
    {
     "data": {
      "text/plain": [
       "<AxesSubplot:>"
      ]
     },
     "execution_count": 8,
     "metadata": {},
     "output_type": "execute_result"
    },
    {
     "data": {
      "image/png": "[encoded data removed]",
      "text/plain": [
       "<Figure size 432x288 with 1 Axes>"
      ]
     },
     "metadata": {
      "needs_background": "light"
     },
     "output_type": "display_data"
    }
   ],
   "source": [
    "# Plot the elbow curve\n",
    "sns.pointplot(x=list(wcss.keys()), y=list(wcss.values()))"
   ]
  },
  {
   "cell_type": "code",
   "execution_count": 9,
   "metadata": {},
   "outputs": [],
   "source": [
    "# Apply K-means clustering with the chosen number of clusters\n",
    "kmeans = KMeans(n_clusters=5, init='k-means++', max_iter=400, random_state=0, algorithm='elkan')\n",
    "kmeans.fit(X)\n",
    "rfm['kmeans_cluster'] = kmeans.labels_"
   ]
  },
  {
   "cell_type": "code",
   "execution_count": 10,
   "metadata": {},
   "outputs": [
    {
     "name": "stderr",
     "output_type": "stream",
     "text": [
      "C:\\Users\\Hacker\\AppData\\Local\\Temp\\ipykernel_5536\\2552005491.py:3: FutureWarning: Dropping of nuisance columns in DataFrame reductions (with 'numeric_only=None') is deprecated; in a future version this will raise TypeError.  Select only valid columns before calling the reduction.\n",
      "  overall_mean = rfm.mean()\n"
     ]
    }
   ],
   "source": [
    "# Analyze the clusters\n",
    "cluster_means = rfm.groupby('kmeans_cluster').mean()\n",
    "overall_mean = rfm.mean()"
   ]
  },
  {
   "cell_type": "code",
   "execution_count": 11,
   "metadata": {},
   "outputs": [
    {
     "name": "stdout",
     "output_type": "stream",
     "text": [
      "                   Recency   Frequency     Monetary\n",
      "kmeans_cluster                                     \n",
      "0                62.052743   94.921941  1570.481363\n",
      "1               166.672050   37.122981   671.248883\n",
      "2                12.427729  254.446411  5717.089243\n",
      "3                22.476945   25.230548   410.106398\n",
      "4               202.125551   11.758811   189.427898\n",
      "Recency             92.581199\n",
      "Frequency           93.053294\n",
      "Monetary          1898.459701\n",
      "kmeans_cluster       1.956313\n",
      "dtype: float64\n"
     ]
    }
   ],
   "source": [
    "# Print the results\n",
    "print(cluster_means)\n",
    "print(overall_mean)"
   ]
  }
 ],
 "metadata": {
  "kernelspec": {
   "display_name": "Python 3 (ipykernel)",
   "language": "python",
   "name": "python3"
  },
  "language_info": {
   "codemirror_mode": {
    "name": "ipython",
    "version": 3
   },
   "file_extension": ".py",
   "mimetype": "text/x-python",
   "name": "python",
   "nbconvert_exporter": "python",
   "pygments_lexer": "ipython3",
   "version": "3.9.12"
  }
 },
 "nbformat": 4,
 "nbformat_minor": 4
}
